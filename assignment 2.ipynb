{
 "cells": [
  {
   "cell_type": "code",
   "execution_count": 1,
   "id": "3ac86139-20c2-489c-b5b4-5002536749e8",
   "metadata": {},
   "outputs": [],
   "source": [
    "l2 = []\n",
    "\\\\ A1)"
   ]
  },
  {
   "cell_type": "code",
   "execution_count": 2,
   "id": "45fbb903-8f0d-4144-9248-09abebed31fe",
   "metadata": {},
   "outputs": [
    {
     "data": {
      "text/plain": [
       "[]"
      ]
     },
     "execution_count": 2,
     "metadata": {},
     "output_type": "execute_result"
    }
   ],
   "source": [
    "l2"
   ]
  },
  {
   "cell_type": "code",
   "execution_count": 3,
   "id": "d128f757-9a6c-42cf-aa8a-207543ef1eee",
   "metadata": {},
   "outputs": [],
   "source": [
    "l3 = [1,2,3,4]\n",
    "\\\\A2)"
   ]
  },
  {
   "cell_type": "code",
   "execution_count": 5,
   "id": "f819792a-5ba4-4aaa-b553-3a0007c797bf",
   "metadata": {},
   "outputs": [],
   "source": [
    "l4 = [5]"
   ]
  },
  {
   "cell_type": "code",
   "execution_count": 6,
   "id": "cb95487e-157f-45c2-85f9-6fcfdd14ca60",
   "metadata": {},
   "outputs": [],
   "source": [
    "l3 = l3 + l4"
   ]
  },
  {
   "cell_type": "code",
   "execution_count": 7,
   "id": "575f3ec8-9482-4467-9e61-77341ca7b9b2",
   "metadata": {},
   "outputs": [
    {
     "data": {
      "text/plain": [
       "[1, 2, 3, 4, 5]"
      ]
     },
     "execution_count": 7,
     "metadata": {},
     "output_type": "execute_result"
    }
   ],
   "source": [
    "l3"
   ]
  },
  {
   "cell_type": "code",
   "execution_count": 8,
   "id": "507ee485-2e3d-4708-8fc1-e884e2b6a64e",
   "metadata": {},
   "outputs": [
    {
     "data": {
      "text/plain": [
       "5"
      ]
     },
     "execution_count": 8,
     "metadata": {},
     "output_type": "execute_result"
    }
   ],
   "source": [
    "l3[4]\n",
    "\\\\A3)"
   ]
  },
  {
   "cell_type": "code",
   "execution_count": 9,
   "id": "b855752e-5009-4db6-ae3e-8a723090339d",
   "metadata": {},
   "outputs": [
    {
     "data": {
      "text/plain": [
       "[5, 4, 3, 2, 1]"
      ]
     },
     "execution_count": 9,
     "metadata": {},
     "output_type": "execute_result"
    }
   ],
   "source": [
    "l3[::-1]\n",
    "\\\\A4)"
   ]
  },
  {
   "cell_type": "code",
   "execution_count": 11,
   "id": "e8f9555e-ca77-4e2a-9c60-23346a017727",
   "metadata": {},
   "outputs": [
    {
     "name": "stdout",
     "output_type": "stream",
     "text": [
      "[1, 2, 3, 4, 5]\n"
     ]
    }
   ],
   "source": [
    "l3.sort()\n",
    "print(l3)\n",
    "\\\\A5)"
   ]
  },
  {
   "cell_type": "code",
   "execution_count": 23,
   "id": "a555dcf2-8557-4855-97fd-d1be4e7afaab",
   "metadata": {},
   "outputs": [],
   "source": [
    "movies = ['oppenhiemer','barbie','pursuit of happiness']\n",
    "\\\\A6)"
   ]
  },
  {
   "cell_type": "code",
   "execution_count": 24,
   "id": "261216e0-f88e-4199-8d22-23c765ac2672",
   "metadata": {},
   "outputs": [
    {
     "data": {
      "text/plain": [
       "'barbie'"
      ]
     },
     "execution_count": 24,
     "metadata": {},
     "output_type": "execute_result"
    }
   ],
   "source": [
    "movies[1]"
   ]
  },
  {
   "cell_type": "code",
   "execution_count": 25,
   "id": "eae52ac8-4e5b-41e3-9f21-dbed2bd9f5ba",
   "metadata": {},
   "outputs": [],
   "source": [
    "animals = ['dog','cat','lion']\n",
    "\\\\A7)'"
   ]
  },
  {
   "cell_type": "code",
   "execution_count": 27,
   "id": "3ce55719-9e4e-4660-abf9-05ca8b511914",
   "metadata": {},
   "outputs": [],
   "source": [
    "new_animal = ['cheetah']"
   ]
  },
  {
   "cell_type": "code",
   "execution_count": 28,
   "id": "5b386ad0-ad1f-42d8-997e-65bb9a35618f",
   "metadata": {},
   "outputs": [],
   "source": [
    "animals = animals+new_animal"
   ]
  },
  {
   "cell_type": "code",
   "execution_count": 29,
   "id": "fd8c2505-4ec1-4c29-9c2e-b51b13cada3e",
   "metadata": {},
   "outputs": [
    {
     "data": {
      "text/plain": [
       "['dog', 'cat', 'lion', 'cheetah']"
      ]
     },
     "execution_count": 29,
     "metadata": {},
     "output_type": "execute_result"
    }
   ],
   "source": [
    "animals"
   ]
  },
  {
   "cell_type": "code",
   "execution_count": 44,
   "id": "8f020eb7-49d0-4bc9-85e3-0a603477dddf",
   "metadata": {},
   "outputs": [
    {
     "name": "stdout",
     "output_type": "stream",
     "text": [
      "0\n"
     ]
    }
   ],
   "source": [
    "cities = [\"dubai\",\"banglore\",\"sharjah\",\"riyadh\"]\n",
    "x = cities.index(\"dubai\")\n",
    "print(x)\n",
    "\\\\ while using any function use () brackets not []"
   ]
  }
 ],
 "metadata": {
  "kernelspec": {
   "display_name": "Python 3 (ipykernel)",
   "language": "python",
   "name": "python3"
  },
  "language_info": {
   "codemirror_mode": {
    "name": "ipython",
    "version": 3
   },
   "file_extension": ".py",
   "mimetype": "text/x-python",
   "name": "python",
   "nbconvert_exporter": "python",
   "pygments_lexer": "ipython3",
   "version": "3.10.8"
  }
 },
 "nbformat": 4,
 "nbformat_minor": 5
}
